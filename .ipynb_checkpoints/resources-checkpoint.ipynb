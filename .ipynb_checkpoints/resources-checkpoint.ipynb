{
 "cells": [
  {
   "cell_type": "markdown",
   "metadata": {},
   "source": [
    "# Recommended books\n",
    "- **Pattern Recognition and Machine Learning** <br> Christopher Bishop, Springer, 2006.\n",
    "> - Excellent on classification and regression\n",
    "\n",
    "- **Elements of Statistical Learning** <br> Hastie, Tibshirani, Friedman, Springer, 2009, second edition\n",
    "> - Good explanation of algorithms\n",
    "> - Free pdf online\n",
    "\n",
    "- **Data Mining: Practical Machine Learning Tools and Techniques** <br> Ian Witten & Eibe Frank, Morgan Kaufmann, 2005\n",
    "> - Good practical guide"
   ]
  },
  {
   "cell_type": "markdown",
   "metadata": {},
   "source": [
    "# Popular open data repositories and resources for machine learning\n",
    "  \n",
    "- **UC Irvine Machine Learning Repository**    \n",
    "> - http://archive.ics.uci.edu/ml/\n",
    "\n",
    "- **Kaggle datasets**\n",
    "> - https://www.kaggle.com/datasets\n",
    "\n",
    "- **Amazon's AWS datasets**\n",
    "> - http://aws.amazon.com/fr/datasets/"
   ]
  },
  {
   "cell_type": "code",
   "execution_count": null,
   "metadata": {},
   "outputs": [],
   "source": []
  }
 ],
 "metadata": {
  "kernelspec": {
   "display_name": "Python 3",
   "language": "python",
   "name": "python3"
  },
  "language_info": {
   "codemirror_mode": {
    "name": "ipython",
    "version": 3
   },
   "file_extension": ".py",
   "mimetype": "text/x-python",
   "name": "python",
   "nbconvert_exporter": "python",
   "pygments_lexer": "ipython3",
   "version": "3.7.1"
  }
 },
 "nbformat": 4,
 "nbformat_minor": 2
}
