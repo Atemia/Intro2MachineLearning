{
 "cells": [
  {
   "cell_type": "markdown",
   "metadata": {},
   "source": [
    "## Solution 1\n"
   ]
  },
  {
   "cell_type": "raw",
   "metadata": {},
   "source": [
    "import pandas as pd \n",
    "import matplotlib.pyplot as plt\n",
    "\n",
    "cl = ['red', 'blue', 'green']\n",
    "color_list = [cl[i] for i in y_train]\n",
    "\n",
    "pd.plotting.scatter_matrix(pd.DataFrame(X_train, columns=iris['feature_names']),\n",
    "                                       c=color_list,\n",
    "                                       figsize= [15,15],\n",
    "                                       diagonal='hist',\n",
    "                                       alpha=0.5,\n",
    "                                       s = 200,\n",
    "                                       marker = '*',\n",
    "                                       edgecolor= \"black\")\n",
    "fig2 = plt.figure()"
   ]
  },
  {
   "cell_type": "code",
   "execution_count": 1,
   "metadata": {},
   "outputs": [],
   "source": [
    "# %store data # persist data for later reference\n",
    "# %store -r data # retrieve stored data"
   ]
  },
  {
   "cell_type": "code",
   "execution_count": null,
   "metadata": {},
   "outputs": [],
   "source": []
  }
 ],
 "metadata": {
  "kernelspec": {
   "display_name": "Python 3",
   "language": "python",
   "name": "python3"
  },
  "language_info": {
   "codemirror_mode": {
    "name": "ipython",
    "version": 3
   },
   "file_extension": ".py",
   "mimetype": "text/x-python",
   "name": "python",
   "nbconvert_exporter": "python",
   "pygments_lexer": "ipython3",
   "version": "3.7.1"
  }
 },
 "nbformat": 4,
 "nbformat_minor": 2
}
