{
 "cells": [
  {
   "cell_type": "markdown",
   "metadata": {},
   "source": [
    "## Solution 1"
   ]
  },
  {
   "cell_type": "raw",
   "metadata": {},
   "source": [
    "import pandas as pd \n",
    "import matplotlib.pyplot as plt\n",
    "\n",
    "cl = ['red', 'blue', 'green']\n",
    "color_list = [cl[i] for i in y_train]\n",
    "\n",
    "pd.plotting.scatter_matrix(pd.DataFrame(X_train, columns=iris['feature_names']),\n",
    "                                       c=color_list,\n",
    "                                       figsize= [15,15],\n",
    "                                       diagonal='hist',\n",
    "                                       alpha=0.5,\n",
    "                                       s = 200,\n",
    "                                       marker = '*',\n",
    "                                       edgecolor= \"black\")\n",
    "fig2 = plt.figure()"
   ]
  },
  {
   "cell_type": "code",
   "execution_count": 1,
   "metadata": {},
   "outputs": [],
   "source": [
    "# %store data # persist data for later reference\n",
    "# %store -r data # retrieve stored data"
   ]
  },
  {
   "cell_type": "markdown",
   "metadata": {},
   "source": [
    "## Solution 2"
   ]
  },
  {
   "cell_type": "raw",
   "metadata": {},
   "source": [
    "import numpy as np\n",
    "\n",
    "X_new = np.array([[5, 2.9, 1, 0.2]])\n",
    "\n",
    "X_new.shape"
   ]
  },
  {
   "cell_type": "raw",
   "metadata": {},
   "source": [
    "prediction = knn.predict(X_new)"
   ]
  },
  {
   "cell_type": "raw",
   "metadata": {},
   "source": [
    "iris['target_names'][prediction]"
   ]
  },
  {
   "cell_type": "markdown",
   "metadata": {},
   "source": [
    "Our model predicts that this new iris belongs to the class `0`, meaning its species is `Setosa`."
   ]
  },
  {
   "cell_type": "markdown",
   "metadata": {},
   "source": [
    "## Solution 3"
   ]
  },
  {
   "cell_type": "raw",
   "metadata": {},
   "source": [
    "knn.score(X_test, y_test)"
   ]
  },
  {
   "cell_type": "code",
   "execution_count": null,
   "metadata": {},
   "outputs": [],
   "source": []
  }
 ],
 "metadata": {
  "kernelspec": {
   "display_name": "Python 3",
   "language": "python",
   "name": "python3"
  },
  "language_info": {
   "codemirror_mode": {
    "name": "ipython",
    "version": 3
   },
   "file_extension": ".py",
   "mimetype": "text/x-python",
   "name": "python",
   "nbconvert_exporter": "python",
   "pygments_lexer": "ipython3",
   "version": "3.7.1"
  }
 },
 "nbformat": 4,
 "nbformat_minor": 2
}
