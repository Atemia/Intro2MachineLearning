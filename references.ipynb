{
 "cells": [
  {
   "cell_type": "markdown",
   "metadata": {},
   "source": [
    "\n",
    "\n",
    "# References and Acknowledgements\n",
    "- **Introduction to Machine Learning with Python: A Guide for Data Scientists** <br> Sarah Guido, Andreas C. Müller, 2016.\n",
    "- **Machine Learning Tutorial for Beginners** <br/> https://www.kaggle.com/kanncaa1/machine-learning-tutorial-for-beginners/\n",
    "\n",
    "- The dataset was downloaded from: https://www.kaggle.com/kanncaa1/machine-learning-tutorial-for-beginners/data\n",
    "- https://www.analyticsvidhya.com/blog/2018/03/introduction-k-neighbours-algorithm-clustering/"
   ]
  },
  {
   "cell_type": "code",
   "execution_count": null,
   "metadata": {},
   "outputs": [],
   "source": []
  }
 ],
 "metadata": {
  "kernelspec": {
   "display_name": "Python 3",
   "language": "python",
   "name": "python3"
  },
  "language_info": {
   "codemirror_mode": {
    "name": "ipython",
    "version": 3
   },
   "file_extension": ".py",
   "mimetype": "text/x-python",
   "name": "python",
   "nbconvert_exporter": "python",
   "pygments_lexer": "ipython3",
   "version": "3.7.1"
  }
 },
 "nbformat": 4,
 "nbformat_minor": 2
}
